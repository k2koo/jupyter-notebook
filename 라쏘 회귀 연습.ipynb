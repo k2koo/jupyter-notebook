{
 "cells": [
  {
   "cell_type": "code",
   "execution_count": 2,
   "id": "d6cf01c4",
   "metadata": {},
   "outputs": [
    {
     "data": {
      "text/html": [
       "<div>\n",
       "<style scoped>\n",
       "    .dataframe tbody tr th:only-of-type {\n",
       "        vertical-align: middle;\n",
       "    }\n",
       "\n",
       "    .dataframe tbody tr th {\n",
       "        vertical-align: top;\n",
       "    }\n",
       "\n",
       "    .dataframe thead th {\n",
       "        text-align: right;\n",
       "    }\n",
       "</style>\n",
       "<table border=\"1\" class=\"dataframe\">\n",
       "  <thead>\n",
       "    <tr style=\"text-align: right;\">\n",
       "      <th></th>\n",
       "      <th>housing_age</th>\n",
       "      <th>income</th>\n",
       "      <th>bedrooms</th>\n",
       "      <th>households</th>\n",
       "      <th>rooms</th>\n",
       "      <th>house_value</th>\n",
       "    </tr>\n",
       "  </thead>\n",
       "  <tbody>\n",
       "    <tr>\n",
       "      <th>0</th>\n",
       "      <td>23</td>\n",
       "      <td>6.7770</td>\n",
       "      <td>0.141112</td>\n",
       "      <td>2.442244</td>\n",
       "      <td>8.103960</td>\n",
       "      <td>500000</td>\n",
       "    </tr>\n",
       "    <tr>\n",
       "      <th>1</th>\n",
       "      <td>49</td>\n",
       "      <td>6.0199</td>\n",
       "      <td>0.160984</td>\n",
       "      <td>2.726688</td>\n",
       "      <td>5.752412</td>\n",
       "      <td>500000</td>\n",
       "    </tr>\n",
       "    <tr>\n",
       "      <th>2</th>\n",
       "      <td>35</td>\n",
       "      <td>5.1155</td>\n",
       "      <td>0.249061</td>\n",
       "      <td>1.902676</td>\n",
       "      <td>3.888078</td>\n",
       "      <td>500000</td>\n",
       "    </tr>\n",
       "    <tr>\n",
       "      <th>3</th>\n",
       "      <td>32</td>\n",
       "      <td>4.7109</td>\n",
       "      <td>0.231383</td>\n",
       "      <td>1.913669</td>\n",
       "      <td>4.508393</td>\n",
       "      <td>500000</td>\n",
       "    </tr>\n",
       "    <tr>\n",
       "      <th>4</th>\n",
       "      <td>21</td>\n",
       "      <td>4.5625</td>\n",
       "      <td>0.255583</td>\n",
       "      <td>3.092664</td>\n",
       "      <td>4.667954</td>\n",
       "      <td>500000</td>\n",
       "    </tr>\n",
       "  </tbody>\n",
       "</table>\n",
       "</div>"
      ],
      "text/plain": [
       "   housing_age  income  bedrooms  households     rooms  house_value\n",
       "0           23  6.7770  0.141112    2.442244  8.103960       500000\n",
       "1           49  6.0199  0.160984    2.726688  5.752412       500000\n",
       "2           35  5.1155  0.249061    1.902676  3.888078       500000\n",
       "3           32  4.7109  0.231383    1.913669  4.508393       500000\n",
       "4           21  4.5625  0.255583    3.092664  4.667954       500000"
      ]
     },
     "execution_count": 2,
     "metadata": {},
     "output_type": "execute_result"
    }
   ],
   "source": [
    "import warnings\n",
    "warnings.filterwarnings(\"ignore\")\n",
    "import pandas as pd\n",
    "data2=pd.read_csv('house_price.csv', encoding='utf-8')\n",
    "X=data2[data2.columns[1:5]]\n",
    "y=data2[[\"house_value\"]]\n",
    "data2.head()"
   ]
  },
  {
   "cell_type": "code",
   "execution_count": 4,
   "id": "c1f75c18",
   "metadata": {},
   "outputs": [],
   "source": [
    "from sklearn.model_selection import train_test_split\n",
    "X_train, X_test, y_train, y_test=train_test_split(X, y, random_state=42)"
   ]
  },
  {
   "cell_type": "code",
   "execution_count": 6,
   "id": "0996cb76",
   "metadata": {},
   "outputs": [],
   "source": [
    "from sklearn.preprocessing import MinMaxScaler\n",
    "scaler=MinMaxScaler()\n",
    "scaler.fit(X_train)\n",
    "X_scaled_train=scaler.transform(X_train)\n",
    "X_scaled_test=scaler.transform(X_test)"
   ]
  },
  {
   "cell_type": "code",
   "execution_count": 8,
   "id": "dcd97b95",
   "metadata": {},
   "outputs": [
    {
     "data": {
      "text/plain": [
       "0.5455724679313863"
      ]
     },
     "execution_count": 8,
     "metadata": {},
     "output_type": "execute_result"
    }
   ],
   "source": [
    "from sklearn.linear_model import Lasso\n",
    "model=Lasso()\n",
    "model.fit(X_scaled_train, y_train)\n",
    "pred_train=model.predict(X_scaled_train)\n",
    "model.score(X_scaled_train, y_train)"
   ]
  },
  {
   "cell_type": "code",
   "execution_count": 10,
   "id": "f111122f",
   "metadata": {},
   "outputs": [
    {
     "data": {
      "text/plain": [
       "0.5626850497564577"
      ]
     },
     "execution_count": 10,
     "metadata": {},
     "output_type": "execute_result"
    }
   ],
   "source": [
    "pred_test=model.predict(X_scaled_test)\n",
    "model.score(X_scaled_test, y_test)"
   ]
  },
  {
   "cell_type": "code",
   "execution_count": 12,
   "id": "a992cdf2",
   "metadata": {},
   "outputs": [
    {
     "name": "stdout",
     "output_type": "stream",
     "text": [
      "훈련   데이터 RMSE: 64340.34152172676\n",
      "테스트 데이터 RMSE: 63220.748913873045\n"
     ]
    }
   ],
   "source": [
    "# RMSE (Root Mean Squared Error)\n",
    "import numpy as np\n",
    "from sklearn.metrics import mean_squared_error \n",
    "MSE_train = mean_squared_error(y_train, pred_train)\n",
    "MSE_test = mean_squared_error(y_test, pred_test)\n",
    "print(\"훈련   데이터 RMSE:\", np.sqrt(MSE_train))\n",
    "print(\"테스트 데이터 RMSE:\", np.sqrt(MSE_test))"
   ]
  },
  {
   "cell_type": "code",
   "execution_count": 14,
   "id": "9f0f8236",
   "metadata": {},
   "outputs": [
    {
     "data": {
      "text/plain": [
       "GridSearchCV(cv=5, estimator=Lasso(),\n",
       "             param_grid={'alpha': [0.0, 1e-06, 1e-05, 0.0001, 0.001, 0.01, 0.1,\n",
       "                                   0.5, 1.0, 2.0, 3.0]})"
      ]
     },
     "execution_count": 14,
     "metadata": {},
     "output_type": "execute_result"
    }
   ],
   "source": [
    "#그리드 서치\n",
    "param_grid={'alpha': [0.0, 1e-6, 1e-5, 1e-4, 1e-3, 1e-2, 0.1, 0.5, 1.0, 2.0, 3.0]} #알파 기본값은 1\n",
    "from sklearn.model_selection import GridSearchCV\n",
    "grid_search=GridSearchCV(Lasso(), param_grid, cv=5)\n",
    "grid_search.fit(X_scaled_train, y_train)"
   ]
  },
  {
   "cell_type": "code",
   "execution_count": 21,
   "id": "950de117",
   "metadata": {},
   "outputs": [
    {
     "name": "stdout",
     "output_type": "stream",
     "text": [
      "Best Parameter: {'alpha': 0.5}\n",
      "Best Score: 0.5452\n",
      "TestSet Score: 0.5627\n"
     ]
    }
   ],
   "source": [
    "print(\"Best Parameter: {}\".format(grid_search.best_params_))\n",
    "print(\"Best Score: {:.4f}\".format(grid_search.best_score_))\n",
    "print(\"TestSet Score: {:.4f}\".format(grid_search.score(X_scaled_test, y_test)))"
   ]
  },
  {
   "cell_type": "code",
   "execution_count": null,
   "id": "0b0cf72a",
   "metadata": {
    "scrolled": true
   },
   "outputs": [],
   "source": [
    "\n",
    "\n"
   ]
  },
  {
   "cell_type": "code",
   "execution_count": 26,
   "id": "a3c76354",
   "metadata": {},
   "outputs": [
    {
     "data": {
      "text/plain": [
       "RandomizedSearchCV(cv=5, estimator=Lasso(), n_iter=100,\n",
       "                   param_distributions={'alpha': <scipy.stats._distn_infrastructure.rv_frozen object at 0x000001CDD5BCBF40>})"
      ]
     },
     "execution_count": 26,
     "metadata": {},
     "output_type": "execute_result"
    }
   ],
   "source": [
    "#랜덤서치\n",
    "from scipy.stats import randint\n",
    "param_distribs = {'alpha': randint(low=0.00001, high=10)}\n",
    "from sklearn.model_selection import RandomizedSearchCV\n",
    "random_search=RandomizedSearchCV(Lasso(), \n",
    "                                 param_distributions=param_distribs, n_iter=100, cv=5)\n",
    "random_search.fit(X_scaled_train, y_train)"
   ]
  },
  {
   "cell_type": "code",
   "execution_count": 20,
   "id": "1a176107",
   "metadata": {},
   "outputs": [
    {
     "name": "stdout",
     "output_type": "stream",
     "text": [
      "Best Parameter: {'alpha': 1}\n",
      "Best Score: 0.5452\n",
      "TestSet Score: 0.5627\n"
     ]
    }
   ],
   "source": [
    "print(\"Best Parameter: {}\".format(random_search.best_params_))\n",
    "print(\"Best Score: {:.4f}\".format(random_search.best_score_))\n",
    "print(\"TestSet Score: {:.4f}\".format(random_search.score(X_scaled_test, y_test)))"
   ]
  }
 ],
 "metadata": {
  "kernelspec": {
   "display_name": "Python 3 (ipykernel)",
   "language": "python",
   "name": "python3"
  },
  "language_info": {
   "codemirror_mode": {
    "name": "ipython",
    "version": 3
   },
   "file_extension": ".py",
   "mimetype": "text/x-python",
   "name": "python",
   "nbconvert_exporter": "python",
   "pygments_lexer": "ipython3",
   "version": "3.10.4"
  }
 },
 "nbformat": 4,
 "nbformat_minor": 5
}
