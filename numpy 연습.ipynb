{
 "cells": [
  {
   "cell_type": "code",
   "execution_count": 2,
   "id": "24223ab7",
   "metadata": {},
   "outputs": [
    {
     "name": "stdout",
     "output_type": "stream",
     "text": [
      "[1 2 3 4]\n"
     ]
    }
   ],
   "source": [
    "#numpy 배열 기본\n",
    "import numpy as np\n",
    "v1=np.array([1,2,3,4,])\n",
    "print(v1)"
   ]
  },
  {
   "cell_type": "code",
   "execution_count": 10,
   "id": "4de5c073",
   "metadata": {},
   "outputs": [
    {
     "name": "stdout",
     "output_type": "stream",
     "text": [
      "[0 1 2 3 4]\n",
      "[1 3 5 7 9]\n",
      "[3.5 5.5 7.5 9.5]\n",
      "[ 1  9 25 49 81]\n"
     ]
    }
   ],
   "source": [
    "#np aragange or np arange 연속되거나 일정한 규칙을 가진 숫자\n",
    "v1=np.arange(5)\n",
    "print(v1)\n",
    "#규칙성\n",
    "v2=np.arange(1,10,2, dtype=int) #1투터 10까지 2간격으로 출력, 데이터 타입은 정수\n",
    "v3=np.arange(3.5,10.5,2, dtype=float) #3.5부터 10.5까지 2간격으로 출력, 데이터타입은 실수\n",
    "print(v2)\n",
    "print(v3)\n",
    "#제곱값\n",
    "v4=np.arange(1,10,2)**2 #1부터 10까지 2간격의 숫자를 제곱\n",
    "print(v4)"
   ]
  },
  {
   "cell_type": "code",
   "execution_count": 13,
   "id": "b6ad319e",
   "metadata": {},
   "outputs": [
    {
     "name": "stdout",
     "output_type": "stream",
     "text": [
      "[ 0  1  2  3  4  5  6  7  8  9 10 11]\n",
      "[[ 0  1  2  3  4  5]\n",
      " [ 6  7  8  9 10 11]]\n",
      "[[ 0  2  4  6  8 10]\n",
      " [ 1  3  5  7  9 11]]\n"
     ]
    }
   ],
   "source": [
    "#행렬\n",
    "v1=np.arange(12)\n",
    "print(v1)\n",
    "v2=v1.reshape(2,6)\n",
    "print(v2)\n",
    "v3=v1.reshape(2,6, order='f')\n",
    "print(v3)"
   ]
  },
  {
   "cell_type": "code",
   "execution_count": 19,
   "id": "928fc926",
   "metadata": {},
   "outputs": [
    {
     "name": "stdout",
     "output_type": "stream",
     "text": [
      "[[1 2]\n",
      " [3 4]]\n",
      "[[2 4]\n",
      " [6 8]]\n",
      "[[0 0]\n",
      " [0 0]]\n"
     ]
    }
   ],
   "source": [
    "#계산\n",
    "v1=np.arange(1,5).reshape(2,2) #1~5까지의 배열을 만들고 행렬로 바로 전환\n",
    "print(v1)\n",
    "print(np.add(v1,v1))\n",
    "print(np.subtract(v1,v1))"
   ]
  }
 ],
 "metadata": {
  "kernelspec": {
   "display_name": "Python 3 (ipykernel)",
   "language": "python",
   "name": "python3"
  },
  "language_info": {
   "codemirror_mode": {
    "name": "ipython",
    "version": 3
   },
   "file_extension": ".py",
   "mimetype": "text/x-python",
   "name": "python",
   "nbconvert_exporter": "python",
   "pygments_lexer": "ipython3",
   "version": "3.10.4"
  }
 },
 "nbformat": 4,
 "nbformat_minor": 5
}
